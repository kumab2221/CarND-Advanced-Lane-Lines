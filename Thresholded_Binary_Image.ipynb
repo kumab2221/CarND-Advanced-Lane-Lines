{
 "cells": [
  {
   "cell_type": "markdown",
   "metadata": {},
   "source": [
    "# Thresholded Binary Image"
   ]
  },
  {
   "cell_type": "markdown",
   "metadata": {},
   "source": [
    "### Importing libraries"
   ]
  },
  {
   "cell_type": "code",
   "execution_count": 1,
   "metadata": {},
   "outputs": [],
   "source": [
    "import numpy as np\n",
    "import cv2\n",
    "import glob\n",
    "import matplotlib.pyplot as plt\n",
    "import pickle\n",
    "import os\n",
    "from ipywidgets import interact, interactive\n",
    "%matplotlib inline"
   ]
  },
  {
   "cell_type": "markdown",
   "metadata": {},
   "source": [
    "### Load Camera Calibration Data created in [Camera Calibration](camera_calibration.ipynb)"
   ]
  },
  {
   "cell_type": "code",
   "execution_count": 2,
   "metadata": {},
   "outputs": [],
   "source": [
    "camera_calibrate = pickle.load( open('./outputs/camera_calibration.p', 'rb' ))\n",
    "mtx, dist = map(camera_calibrate.get, ('mtx','dist'))\n",
    "\n",
    "fpath = './test_images/test3.jpg'\n",
    "img_sample = cv2.imread(fpath)"
   ]
  },
  {
   "cell_type": "markdown",
   "metadata": {},
   "source": [
    "## Use color transforms, gradients, etc., to create a thresholded binary image."
   ]
  },
  {
   "cell_type": "markdown",
   "metadata": {},
   "source": [
    "### Absolute Sobel Threshold"
   ]
  },
  {
   "cell_type": "code",
   "execution_count": 3,
   "metadata": {},
   "outputs": [],
   "source": [
    "def abs_sobel_thresh(img, orient='x', thresh_min=0, thresh_max=255):\n",
    "    \n",
    "    # Apply the following steps to img\n",
    "    # 1) Convert to grayscale\n",
    "    gray = cv2.cvtColor(img, cv2.COLOR_RGB2GRAY)\n",
    "    # 2) Take the derivative in x or y given orient = 'x' or 'y'\n",
    "    if orient == 'x' :\n",
    "        sobel = cv2.Sobel(gray,cv2.CV_64F,1,0)\n",
    "    if orient == 'y':\n",
    "        sobel = cv2.Sobel(gray,cv2.CV_64F,0,1)\n",
    "    # 3) Take the absolute value of the derivative or gradient\n",
    "    abs_sobel = np.absolute(sobel)\n",
    "    # 4) Scale to 8-bit (0 - 255) then convert to type = np.uint8\n",
    "    scaled_sobel = np.uint8(255*abs_sobel/np.max(abs_sobel))\n",
    "    # 5) Create a mask of 1's where the scaled gradient magnitude \n",
    "            # is > thresh_min and < thresh_max\n",
    "    binary_output = np.zeros_like(scaled_sobel)\n",
    "    # 6) Return this mask as your binary_output image\n",
    "    binary_output[(scaled_sobel>= thresh_min) & (scaled_sobel <= thresh_max)] = 1\n",
    "    #binary_output = np.copy(img) # Remove this line\n",
    "    return binary_output"
   ]
  },
  {
   "cell_type": "code",
   "execution_count": 4,
   "metadata": {},
   "outputs": [
    {
     "data": {
      "application/vnd.jupyter.widget-view+json": {
       "model_id": "d53e5a3cab7342b986419a72e7a7fd90",
       "version_major": 2,
       "version_minor": 0
      },
      "text/plain": [
       "interactive(children=(Dropdown(description='orient', options=('x', 'y'), value='x'), IntSlider(value=25, descr…"
      ]
     },
     "metadata": {},
     "output_type": "display_data"
    }
   ],
   "source": [
    "vals = (1, 255, 1)\n",
    "orients = ['x','y']\n",
    "@interact(orient=orients,\n",
    "          thresh_min=vals,\n",
    "          thresh_max=vals)\n",
    "def g(orient='x',thresh_min=25,thresh_max=255):\n",
    "    bin_img = abs_sobel_thresh( img_sample, orient, thresh_min, thresh_max)\n",
    "    plt.gray()\n",
    "    plt.imshow(bin_img)\n",
    "    plt.show()"
   ]
  },
  {
   "cell_type": "markdown",
   "metadata": {},
   "source": [
    "### Magnitude Threshold"
   ]
  },
  {
   "cell_type": "code",
   "execution_count": 5,
   "metadata": {},
   "outputs": [],
   "source": [
    "# Define a function that applies Sobel x and y, \n",
    "# then computes the magnitude of the gradient\n",
    "# and applies a threshold\n",
    "def magnitude_thresh(img, sobel_kernel=3, mag_thresh=(0, 255)):\n",
    "    \n",
    "    # Apply the following steps to img\n",
    "    # 1) Convert to grayscale\n",
    "    gray = cv2.cvtColor(img, cv2.COLOR_RGB2GRAY)\n",
    "    # 2) Take the gradient in x and y separately\n",
    "    sobelx = cv2.Sobel(gray,cv2.CV_64F,1,0,ksize=sobel_kernel)\n",
    "    sobely = cv2.Sobel(gray,cv2.CV_64F,0,1,ksize=sobel_kernel)\n",
    "    # 3) Calculate the magnitude \n",
    "    gradmag = np.sqrt(sobelx**2 + sobely**2)\n",
    "    # 4) Scale to 8-bit (0 - 255) and convert to type = np.uint8\n",
    "    scale_factor = np.max(gradmag)/255\n",
    "    gradmag = (gradmag/scale_factor).astype(np.uint8)\n",
    "    # 5) Create a binary mask where mag thresholds are met\n",
    "    binary_output = np.zeros_like(gradmag)\n",
    "    binary_output[(gradmag >= mag_thresh[0]) & (gradmag <= mag_thresh[1])] = 1\n",
    "    # 6) Return this mask as your binary_output image\n",
    "    return binary_output\n"
   ]
  },
  {
   "cell_type": "code",
   "execution_count": 6,
   "metadata": {},
   "outputs": [
    {
     "data": {
      "application/vnd.jupyter.widget-view+json": {
       "model_id": "4a64d3225b734ccfb71226056014d562",
       "version_major": 2,
       "version_minor": 0
      },
      "text/plain": [
       "interactive(children=(IntSlider(value=3, description='sobel_kernel', max=5, min=1, step=2), IntSlider(value=25…"
      ]
     },
     "metadata": {},
     "output_type": "display_data"
    }
   ],
   "source": [
    "vals = (1, 255, 1)\n",
    "k_size = ( 1, 5, 2)\n",
    "@interact(sobel_kernel=k_size,\n",
    "          thresh_min=vals,\n",
    "          thresh_max=vals)\n",
    "def g(sobel_kernel=3,thresh_min=25,thresh_max=255):\n",
    "    bin_img = magnitude_thresh( img_sample, sobel_kernel, (thresh_min, thresh_max))\n",
    "    plt.gray()\n",
    "    plt.imshow(bin_img)\n",
    "    plt.show()\n",
    "    return"
   ]
  },
  {
   "cell_type": "markdown",
   "metadata": {},
   "source": [
    "### Direction Threshold"
   ]
  },
  {
   "cell_type": "code",
   "execution_count": 7,
   "metadata": {},
   "outputs": [],
   "source": [
    "# Define a function that applies Sobel x and y, \n",
    "# then computes the direction of the gradient\n",
    "# and applies a threshold.\n",
    "def dir_threshold(img, sobel_kernel=3, thresh=(0, np.pi/2)):\n",
    "    # Grayscale\n",
    "    gray = cv2.cvtColor(img, cv2.COLOR_RGB2GRAY)\n",
    "    # Calculate the x and y gradients\n",
    "    sobelx = cv2.Sobel(gray, cv2.CV_64F, 1, 0, ksize=sobel_kernel)\n",
    "    sobely = cv2.Sobel(gray, cv2.CV_64F, 0, 1, ksize=sobel_kernel)\n",
    "    # Take the absolute value of the gradient direction, \n",
    "    # apply a threshold, and create a binary image result\n",
    "    absgraddir = np.arctan2(np.absolute(sobely), np.absolute(sobelx))\n",
    "    binary_output =  np.zeros_like(absgraddir)\n",
    "    binary_output[(absgraddir >= thresh[0]) & (absgraddir <= thresh[1])] = 1\n",
    "    # Return the binary image\n",
    "    return binary_output"
   ]
  },
  {
   "cell_type": "code",
   "execution_count": 8,
   "metadata": {},
   "outputs": [
    {
     "data": {
      "application/vnd.jupyter.widget-view+json": {
       "model_id": "9054d7c3b4c34b91aef9405cb0131c67",
       "version_major": 2,
       "version_minor": 0
      },
      "text/plain": [
       "interactive(children=(IntSlider(value=3, description='sobel_kernel', max=5, min=1, step=2), FloatSlider(value=…"
      ]
     },
     "metadata": {},
     "output_type": "display_data"
    }
   ],
   "source": [
    "vals = (0, np.pi/2, 0.01)\n",
    "k_size = ( 1, 5, 2)\n",
    "@interact(sobel_kernel=k_size,\n",
    "          thresh_min=vals,\n",
    "          thresh_max=vals)\n",
    "def g(sobel_kernel=3,thresh_min=1.0,thresh_max=np.pi/2):\n",
    "    bin_img = dir_threshold( img_sample, sobel_kernel, (thresh_min, thresh_max))\n",
    "    plt.imshow(bin_img, cmap='gray')\n",
    "    plt.show()\n",
    "    return"
   ]
  },
  {
   "cell_type": "markdown",
   "metadata": {},
   "source": [
    "### RGB Threshold"
   ]
  },
  {
   "cell_type": "code",
   "execution_count": 9,
   "metadata": {
    "scrolled": true
   },
   "outputs": [],
   "source": [
    "def rgb_threshold(img, thresh=(0, 255)):\n",
    "    R = img[:,:,0]\n",
    "    G = img[:,:,1]\n",
    "    B = img[:,:,2]\n",
    "    \n",
    "    bin_R = np.zeros_like(R)\n",
    "    bin_R[ (R>thresh[0]) & (R<thresh[1])] = 1\n",
    "    \n",
    "    bin_G = np.zeros_like(G)\n",
    "    bin_G[ (G>thresh[0]) & (G<thresh[1])] = 1\n",
    "    \n",
    "    bin_B = np.zeros_like(B)\n",
    "    bin_B[ (B>thresh[0]) & (B<thresh[1])] = 1\n",
    "    \n",
    "    plt.subplots(1, 3, figsize=(20,10))\n",
    "    \n",
    "    plt.subplot(1, 3, 1)\n",
    "    plt.title('Red', fontsize=30)\n",
    "    plt.imshow(bin_R)\n",
    "    plt.subplot(1, 3, 2)\n",
    "    plt.title('Green', fontsize=30)\n",
    "    plt.imshow(bin_G)\n",
    "\n",
    "    plt.subplot(1, 3, 3)\n",
    "    plt.title('Blue', fontsize=30)\n",
    "    plt.imshow(bin_R)\n",
    "\n",
    "    plt.show()"
   ]
  },
  {
   "cell_type": "code",
   "execution_count": 10,
   "metadata": {},
   "outputs": [
    {
     "data": {
      "application/vnd.jupyter.widget-view+json": {
       "model_id": "07f50f78c2bb4880b1b75bed8f5a31f7",
       "version_major": 2,
       "version_minor": 0
      },
      "text/plain": [
       "interactive(children=(IntSlider(value=150, description='thresh_min', max=255), IntSlider(value=255, descriptio…"
      ]
     },
     "metadata": {},
     "output_type": "display_data"
    }
   ],
   "source": [
    "vals = ( 0, 255)\n",
    "@interact(thresh_min=vals, thresh_max=vals)\n",
    "def g(thresh_min=150,thresh_max=255):\n",
    "    rgb_threshold( img_sample, (thresh_min, thresh_max))"
   ]
  },
  {
   "cell_type": "markdown",
   "metadata": {},
   "source": [
    "### HLS Threshold"
   ]
  },
  {
   "cell_type": "code",
   "execution_count": 11,
   "metadata": {},
   "outputs": [],
   "source": [
    "def hls_threshold(img, thresh=(0, 255)):\n",
    "    \n",
    "    hls = cv2.cvtColor(img, cv2.COLOR_RGB2HLS)\n",
    "    H = hls[:,:,0]\n",
    "    L = hls[:,:,1]\n",
    "    S = hls[:,:,2]\n",
    "    \n",
    "    bin_H = np.zeros_like(H)\n",
    "    bin_H[ (H>thresh[0]) & (H<thresh[1])] = 1\n",
    "    \n",
    "    bin_L = np.zeros_like(L)\n",
    "    bin_L[ (L>thresh[0]) & (L<thresh[1])] = 1\n",
    "    \n",
    "    bin_S = np.zeros_like(S)\n",
    "    bin_S[ (S>thresh[0]) & (S<thresh[1])] = 1\n",
    "    \n",
    "    plt.subplots(1, 3, figsize=(20,10))\n",
    "    \n",
    "    plt.subplot(1, 3, 1)\n",
    "    plt.title('H_Channel', fontsize=30)\n",
    "    plt.imshow(bin_H)\n",
    "    plt.subplot(1, 3, 2)\n",
    "    plt.title('L_Channel', fontsize=30)\n",
    "    plt.imshow(bin_L)\n",
    "\n",
    "    plt.subplot(1, 3, 3)\n",
    "    plt.title('S_Channel', fontsize=30)\n",
    "    plt.imshow(bin_S)\n",
    "\n",
    "    plt.show()"
   ]
  },
  {
   "cell_type": "code",
   "execution_count": 12,
   "metadata": {},
   "outputs": [
    {
     "data": {
      "application/vnd.jupyter.widget-view+json": {
       "model_id": "96626a2d0d2447ccaaaaddcf5c767957",
       "version_major": 2,
       "version_minor": 0
      },
      "text/plain": [
       "interactive(children=(IntSlider(value=150, description='thresh_min', max=255), IntSlider(value=255, descriptio…"
      ]
     },
     "metadata": {},
     "output_type": "display_data"
    }
   ],
   "source": [
    "vals = ( 0, 255)\n",
    "@interact(thresh_min=vals, thresh_max=vals)\n",
    "def g(thresh_min=150,thresh_max=255):\n",
    "    hls_threshold( img_sample, (thresh_min, thresh_max))"
   ]
  },
  {
   "cell_type": "markdown",
   "metadata": {},
   "source": [
    "### Combine the two binary thresholds HLS and Sobel"
   ]
  },
  {
   "cell_type": "code",
   "execution_count": 13,
   "metadata": {},
   "outputs": [],
   "source": [
    "def combile_thresholds(img, sobelx_thresh=(20,100), s_thresh=(170,255)):\n",
    "    \n",
    "    gray = cv2.cvtColor(img, cv2.COLOR_RGB2GRAY)\n",
    "    sobelx = cv2.Sobel(gray, cv2.CV_64F, 1, 0)\n",
    "    abs_sobelx = np.absolute(sobelx)\n",
    "    scaled_sobel = np.uint8(255*abs_sobelx/np.max(abs_sobelx))\n",
    "    \n",
    "    sx_binaray = np.zeros_like(scaled_sobel)\n",
    "    sx_binaray[(scaled_sobel>=sobelx_thresh[0])&(scaled_sobel<=sobelx_thresh[1])] = 1\n",
    "    \n",
    "    his = cv2.cvtColor(img, cv2.COLOR_RGB2HLS)\n",
    "    s_channel = his[:,:,2]\n",
    "    s_binary = np.zeros_like(s_channel)\n",
    "    s_binary[(s_channel >= s_thresh[0]) & (s_channel <= s_thresh[1])] = 1\n",
    "    \n",
    "    combined_binary = np.zeros_like(sx_binaray)\n",
    "    combined_binary[(s_binary == 1) | (sx_binaray == 1)] = 1\n",
    "    return combined_binary"
   ]
  },
  {
   "cell_type": "code",
   "execution_count": 14,
   "metadata": {},
   "outputs": [
    {
     "data": {
      "application/vnd.jupyter.widget-view+json": {
       "model_id": "cc1755a0e16b495ba541ca36eb440464",
       "version_major": 2,
       "version_minor": 0
      },
      "text/plain": [
       "interactive(children=(IntSlider(value=20, description='sx_thresh_min', max=255), IntSlider(value=100, descript…"
      ]
     },
     "metadata": {},
     "output_type": "display_data"
    }
   ],
   "source": [
    "vals = (0, 255)\n",
    "@interact(sx_thresh_min=vals,\n",
    "          sx_thresh_max=vals,\n",
    "          s_thresh_min=vals,\n",
    "          s_thresh_max=vals\n",
    "         )\n",
    "def g(sx_thresh_min=20,sx_thresh_max=100,s_thresh_min=170,s_thresh_max=255):\n",
    "    bin_img = combile_thresholds( img_sample, (sx_thresh_min,sx_thresh_max), (s_thresh_min, s_thresh_max))\n",
    "    plt.imshow(bin_img)\n",
    "    plt.savefig('./outputs/image_combine_thresholds.png')\n",
    "    plt.show()\n",
    "    return"
   ]
  },
  {
   "cell_type": "code",
   "execution_count": null,
   "metadata": {},
   "outputs": [],
   "source": []
  }
 ],
 "metadata": {
  "kernelspec": {
   "display_name": "Python 3",
   "language": "python",
   "name": "python3"
  },
  "language_info": {
   "codemirror_mode": {
    "name": "ipython",
    "version": 3
   },
   "file_extension": ".py",
   "mimetype": "text/x-python",
   "name": "python",
   "nbconvert_exporter": "python",
   "pygments_lexer": "ipython3",
   "version": "3.7.7"
  },
  "widgets": {
   "state": {},
   "version": "1.1.2"
  }
 },
 "nbformat": 4,
 "nbformat_minor": 2
}
